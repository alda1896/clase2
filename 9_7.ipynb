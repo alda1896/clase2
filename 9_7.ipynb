{
  "nbformat": 4,
  "nbformat_minor": 0,
  "metadata": {
    "colab": {
      "name": "9.7.ipynb",
      "provenance": [],
      "authorship_tag": "ABX9TyOWe5QbkQmTalnheFoWAw3N",
      "include_colab_link": true
    },
    "kernelspec": {
      "name": "python3",
      "display_name": "Python 3"
    }
  },
  "cells": [
    {
      "cell_type": "markdown",
      "metadata": {
        "id": "view-in-github",
        "colab_type": "text"
      },
      "source": [
        "<a href=\"https://colab.research.google.com/github/alda1896/clase2/blob/master/9_7.ipynb\" target=\"_parent\"><img src=\"https://colab.research.google.com/assets/colab-badge.svg\" alt=\"Open In Colab\"/></a>"
      ]
    },
    {
      "cell_type": "code",
      "metadata": {
        "id": "VATT6CHCoOes"
      },
      "source": [
        "from numpy import zeros, copy, linspace\n",
        "from pylab import plot, show, xlabel, ylabel , title , legend"
      ],
      "execution_count": 1,
      "outputs": []
    },
    {
      "cell_type": "markdown",
      "metadata": {
        "id": "cbUWQSTjq8L5"
      },
      "source": [
        "Un balon  de masa m = 1 kg es lanzado desde  el suelo a una altura x = 0 al aire y aterriza en x = 0 despues de 10 segundos. Es decir tenemos condiciones de contorno, no condiciones iniciales. \n",
        "\n",
        "si despreciamos los efectos de la fricción, la ecuacion diferencial que describe su movimiento es:\n",
        "\n",
        "\n",
        "\\begin{equation}\n",
        "\\frac{dx^2}{dt^2}=-g\n",
        "\\end{equation}\n",
        "\n",
        "Resolvemos usando diferencias finitas\n",
        "\n",
        "\\begin{equation}\n",
        "-g = \\frac{x(t+h)+x(t-h)-2x(t)}{h^2}\n",
        "\\end{equation}\n",
        "\n",
        "Despejamos para $x(t)$\n",
        "\n",
        "\\begin{equation}\n",
        " x(t) = \\frac{gh^2+x(t+h)+(t-h)}{2}\n",
        "\\end{equation}\n"
      ]
    },
    {
      "cell_type": "code",
      "metadata": {
        "id": "dfqRxDjZoq_P"
      },
      "source": [
        "# Constantes\n",
        "g = 9.81  # m/s^2\n",
        "t_0 = 0\n",
        "t_f = 10 # segundos\n",
        "N = 100  # numero de pasos\n",
        "h = t_f / N # tamaño del paso\n",
        "c = g*h*h\n",
        "epsilon = 1e-6 # objetivo de presición\n"
      ],
      "execution_count": 2,
      "outputs": []
    },
    {
      "cell_type": "code",
      "metadata": {
        "id": "BC4npv4DotS2",
        "outputId": "5af4d675-9ce1-4b6d-b118-a4bff9c0a94f",
        "colab": {
          "base_uri": "https://localhost:8080/",
          "height": 296
        }
      },
      "source": [
        "t_points= linspace(t_0,t_f,N+1)  # arreglo los valores de tiempo en segundos\n",
        "x = zeros(N + 1, float)   # valores iniciales de x\n",
        "\n",
        "w=0.9\n",
        "error = 2 * epsilon\n",
        "pasos = 0\n",
        "\n",
        "while error > epsilon:\n",
        "  pasos=pasos+1\n",
        "  old_x=copy(x)\n",
        "  for t in range (1,N):\n",
        "    x[t] =((w+1)/ 2)*(c + x[t - 1] + x[t + 1])- w*x[t]  # Solucionamos usando Gauss-Seidel\n",
        "  error = max(abs(old_x-x))\n",
        "\n",
        " # graficamos la soluciones\n",
        "  if pasos == 1:\n",
        "    plot(t_points, x)\n",
        "  if pasos == 30:\n",
        "     plot(t_points, x)  \n",
        "  if pasos == 150:\n",
        "     plot(t_points,x)    \n",
        "  if pasos == 721:\n",
        "     plot(t_points,x, label=\" Solucion final\")\n",
        "     xlabel(\"t (s)\")\n",
        "     ylabel(\"x (m)\")\n",
        "     legend()\n",
        "\n",
        "print(pasos)"
      ],
      "execution_count": 6,
      "outputs": [
        {
          "output_type": "stream",
          "text": [
            "721\n"
          ],
          "name": "stdout"
        },
        {
          "output_type": "display_data",
          "data": {
            "image/png": "[encoded data removed]",
            "text/plain": [
              "<Figure size 432x288 with 1 Axes>"
            ]
          },
          "metadata": {
            "tags": [],
            "needs_background": "light"
          }
        }
      ]
    },
    {
      "cell_type": "markdown",
      "metadata": {
        "id": "5vLQ3_XpQ82K"
      },
      "source": [
        "Como podemos ver el metodo de relajación tambien permite encontrar la solucion a ecuacioens diferenciales ordinarias, sin embargo a  diferencia del método de shooting no nos da el valor inicial de la velocidad necesaria para lograr la solución requerida solo da solo la solución en sí. Podemos calcular la velocidad realizando la derivada numerica de las posiciones encontradas:\n"
      ]
    },
    {
      "cell_type": "code",
      "metadata": {
        "id": "b8n2SIHooxO3",
        "outputId": "271451ec-8afd-4708-e88e-c78c9a162b2d",
        "colab": {
          "base_uri": "https://localhost:8080/",
          "height": 34
        }
      },
      "source": [
        "# velocidad inicial usando diferencias centrales\n",
        "v_x=zeros([N+1],float)\n",
        "v_x[1:N]=(x[2:N+1]+x[0:N-1])/(2*h)\n",
        "print( \"velocidad inicial = \", v_x[1])"
      ],
      "execution_count": 4,
      "outputs": [
        {
          "output_type": "stream",
          "text": [
            "velocidad inicial =  48.06897696474168\n"
          ],
          "name": "stdout"
        }
      ]
    },
    {
      "cell_type": "markdown",
      "metadata": {
        "id": "MrXeHGbFmZy8"
      },
      "source": [
        "Podemos concluir que el método de relajación para ecuaciones diferenciales ordinarias es más útil cuando se desea conocer los detalles de la solución, pero no las condiciones iniciales."
      ]
    },
    {
      "cell_type": "code",
      "metadata": {
        "id": "K0Mp1_Hamc37"
      },
      "source": [
        ""
      ],
      "execution_count": 4,
      "outputs": []
    }
  ]
}