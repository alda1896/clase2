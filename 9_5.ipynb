{
  "nbformat": 4,
  "nbformat_minor": 0,
  "metadata": {
    "colab": {
      "name": "9.5.ipynb",
      "provenance": [],
      "authorship_tag": "ABX9TyOn7urMHMmwDGKOxPpgZKTh",
      "include_colab_link": true
    },
    "kernelspec": {
      "name": "python3",
      "display_name": "Python 3"
    }
  },
  "cells": [
    {
      "cell_type": "markdown",
      "metadata": {
        "id": "view-in-github",
        "colab_type": "text"
      },
      "source": [
        "<a href=\"https://colab.research.google.com/github/alda1896/clase2/blob/master/9_5.ipynb\" target=\"_parent\"><img src=\"https://colab.research.google.com/assets/colab-badge.svg\" alt=\"Open In Colab\"/></a>"
      ]
    },
    {
      "cell_type": "code",
      "metadata": {
        "id": "hFZpol5IgDCk"
      },
      "source": [
        "from numpy import zeros, exp, linspace, array, copy\n",
        "from pylab import plot, show, xlabel, ylabel, legend, title"
      ],
      "execution_count": null,
      "outputs": []
    },
    {
      "cell_type": "markdown",
      "metadata": {
        "id": "c4o264pxmfBq"
      },
      "source": [
        "Resolveremos la ecuacion de onda\n",
        "\n",
        "\\begin{equation}\n",
        "\\frac{\\partial\\phi^{2}}{\\partial t^{2}}=v^{2}\\frac{\\partial\\phi^{2}}{\\partial x^{2}}\n",
        "\\end{equation}\n",
        "\n",
        "Usando el metodo FTCS\n",
        "\n",
        "\n",
        "\\begin{equation}\n",
        "\\frac{\\partial\\phi^{2}}{\\partial t^{2}}=\\frac{v^{2}}{a^2}\\left [  \\phi(x+a,t)+\\phi(x-a,t)-2\\phi(x,t)\\right ]\n",
        "\\end{equation}\n",
        "\n",
        "\n",
        "Ahora, realizando un cambio de variable\n",
        "\n",
        "\\begin{equation}\n",
        "\\psi=\\frac{\\partial\\phi}{\\partial t}\n",
        "\\end{equation}\n",
        "\n",
        "\\begin{equation}\n",
        "\\frac{\\partial\\psi}{\\partial t}=\\frac{v^{2}}{a^2}\\left [  \\phi(x+a,t)+\\phi(x-a,t)-2\\phi(x,t)\\right ]\n",
        "\\end{equation}\n",
        "\n",
        "\n",
        "Finalmente usando el metodo de Euler\n",
        "\n",
        "\\begin{equation}\n",
        "\\psi(x,t+h)=\\psi(x,t)+h\\frac{v^{2}}{a^2}\\left [  \\phi(x+a,t)+\\phi(x-a,t)-2\\phi(x,t)\\right ]\n",
        "\\end{equation}\n",
        "\n",
        "\\begin{equation}\n",
        "\\phi(x,t+h)=\\phi(x,t)+h\\psi(x,t)\n",
        "\\end{equation}\n",
        "\n",
        "\n",
        "\n"
      ]
    },
    {
      "cell_type": "code",
      "metadata": {
        "id": "zD0B4qSqgQhZ"
      },
      "source": [
        "# Constantes\n",
        "L = 1  # m\n",
        "d = 0.01  # m\n",
        "C = 1  # m/s\n",
        "sigma = 0.3  # m\n",
        "v = 100  # m/s\n",
        "N = 1000  # numero de puntos en x \n",
        "a = L / N  # tamaño de paso espacial\n",
        "h = 1e-6  # paso temporal en segundos\n",
        "k = h*(v/a)**2\n",
        "t_f = 10e-3 # s\n",
        "\n"
      ],
      "execution_count": null,
      "outputs": []
    },
    {
      "cell_type": "markdown",
      "metadata": {
        "id": "mEn0mjYlpYEv"
      },
      "source": [
        "Nuestra condición inicial es la velocidad $\\psi(x)$ dada por la ecuación:\n",
        "\n",
        "\n",
        "\\begin{equation}\n",
        "\\psi(x) = C\\frac{x(L-x)}{L^2}e^{-\\frac{(x-d)^2}{2\\sigma^2}}\n",
        "\\end{equation}\n",
        "\n"
      ]
    },
    {
      "cell_type": "code",
      "metadata": {
        "id": "kZagtAwes5ue"
      },
      "source": [
        "#Funcion de velocidad\n",
        "def func_psi(x):\n",
        "    return C * (x * (L - x)) / L ** 2 * exp(-(x - d) ** 2 / (2 * sigma ** 2))"
      ],
      "execution_count": null,
      "outputs": []
    },
    {
      "cell_type": "code",
      "metadata": {
        "id": "Rtt0-zLmkEmb"
      },
      "source": [
        "\n",
        "x_points = linspace(0, L, N + 1)  # arreglo que contiene las posiciones\n",
        "phi = zeros(N + 1, float)    # arreglo que contiene los valores iniciales de la funcon de onda\n",
        "psi = array(list(map(func_psi, x_points)), float) # arreglo contiene la velocidad evaluadno la func_psi para cada punto en x_points\n",
        "\n",
        "Phi = [] # Funcion de onda\n",
        "t = 0.0\n",
        "acum=0\n",
        "\n",
        "# ciclo principal que resuelve la ED\n",
        "while t <= t_f:\n",
        "\n",
        "    Phi.append(copy(phi))\n",
        "\n",
        "    old_phi = copy(phi)\n",
        "    old_psi = copy(psi)\n",
        "\n",
        "    psi[1: N] = old_psi[1: N] + k * (old_phi[2: N + 1] + old_phi[0: N - 1] - 2 * old_phi[1: N])\n",
        "    phi[1: N] = old_phi[1: N] + h * old_psi[1: N]\n",
        "    t += h\n",
        "    acum=acum+1 \n",
        "print(acum)"
      ],
      "execution_count": null,
      "outputs": []
    },
    {
      "cell_type": "code",
      "metadata": {
        "id": "2epKjnL9mrEj"
      },
      "source": [
        "plot(x_points, Phi[0], 'b', label='0 ms') \n",
        "plot(x_points, Phi[250], 'r', label='0.25 ms') \n",
        "plot(x_points, Phi[500], 'g', label='0.5 ms') \n",
        "plot(x_points, Phi[750], 'y',label='0.75 ms') \n",
        "plot(x_points, Phi[1000], 'orange', label='1 ms') \n",
        "xlabel(\"x[m]\")\n",
        "ylabel(\"$\\phi$ \")\n",
        "title('función de onda')\n",
        "legend()\n",
        "show()"
      ],
      "execution_count": null,
      "outputs": []
    },
    {
      "cell_type": "markdown",
      "metadata": {
        "id": "H-BPleoSuQmZ"
      },
      "source": [
        "Como podemos observar en al grafica anterior para tiempos muy cortos, menores a un mili segundo,  la solución parece la esperada viéndose como ondas de aspecto normal en la acuerda"
      ]
    },
    {
      "cell_type": "code",
      "metadata": {
        "id": "8uA_otYwzsGy"
      },
      "source": [
        "plot(x_points,Phi[1200], 'b', label='1,2 ms') \n",
        "ylabel(\"$\\phi$ \")\n",
        "xlabel(\"x[m]\")\n",
        "legend()\n",
        "show()"
      ],
      "execution_count": null,
      "outputs": []
    },
    {
      "cell_type": "markdown",
      "metadata": {
        "id": "Bp8O9ISqu7W4"
      },
      "source": [
        "sin emabargo, como se ve en al gráfica anterior, mas hallá del primer milisegundo, los errores comienzan a aparecer  y en instantes posteriores  los errores han crecido para dominar el cálculo. Así, los resultados no tienen sentido como podemos observar en las graficas siguientes"
      ]
    },
    {
      "cell_type": "code",
      "metadata": {
        "id": "a5cqAUxCm598"
      },
      "source": [
        "plot(x_points,Phi[5000], 'r', label='5 ms')\n",
        "ylabel(\"$\\phi$ \")\n",
        "xlabel(\"x[m]\")\n",
        "legend()\n",
        "show()"
      ],
      "execution_count": null,
      "outputs": []
    },
    {
      "cell_type": "code",
      "metadata": {
        "id": "rf2-LIfE0Bvy"
      },
      "source": [
        "plot(x_points, Phi[10000], 'y', label=\"10 ms\")\n",
        "ylabel(\"$\\phi$ \")\n",
        "xlabel(\"x[m]\")\n",
        "legend()\n",
        "show()"
      ],
      "execution_count": null,
      "outputs": []
    },
    {
      "cell_type": "markdown",
      "metadata": {
        "id": "zgQJflhEu5zy"
      },
      "source": [
        "Lo anterior se debe a que  el  método numerio resulta inestable, cualquier error en el procesamiento se magnifica conforme el cálculo procede. Este es el resultado esperado teniendo en cuenta que el metodo FTCS es parcialmente estable aplicado a la ecuación de difusión de calor, pero se torna inestable al aplicarlo para resolver la ecuación de onda."
      ]
    },
    {
      "cell_type": "code",
      "metadata": {
        "id": "6DokZfMLy68X"
      },
      "source": [
        ""
      ],
      "execution_count": null,
      "outputs": []
    }
  ]
}